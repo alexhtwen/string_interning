{
 "cells": [
  {
   "attachments": {},
   "cell_type": "markdown",
   "metadata": {},
   "source": [
    "<div style=\"font-family: 'Gen Jyuu Gothic Monospace Medium', 'Noto Sans TC'; font-size: 115%; line-height: 135%; text-align: center; color: Plum;\">\n",
    "\n",
    "<br>\n",
    "\n",
    "# String Interning 字串留駐"
   ]
  },
  {
   "attachments": {},
   "cell_type": "markdown",
   "metadata": {},
   "source": [
    "<div style=\"font-family: 'Inconsolata', 'Noto Sans TC'; font-size: 115%; line-height: 135%;\">\n",
    "\n",
    "* 本文附帶說明字串為何是immutable(不可變)。\n",
    "* 原因先賣個關子，稍後各位自然了解..."
   ]
  },
  {
   "attachments": {},
   "cell_type": "markdown",
   "metadata": {},
   "source": [
    "<div style=\"font-family: 'Inconsolata', 'Noto Sans TC'; font-size: 115%; line-height: 135%;\">\n",
    "\n",
    "### 比較兩個物件(變數)，Python有兩個operators：\n",
    " \n",
    "* 內容是否相等 ⮕ <span style=\"font-size: 150%; font-weight: 800; color: Gold;\">==</span> (Comparison Operator)。\n",
    "* 是否同一物件 ⮕ <span style=\"font-size: 150%; font-weight: 800; color: Gold;\">is</span> (Identity Operator)。"
   ]
  },
  {
   "cell_type": "code",
   "execution_count": null,
   "metadata": {},
   "outputs": [],
   "source": [
    "def compare_objs(*obj) -> None:\n",
    "    # this_type = str(type(obj[0])).split()[1][1:-2]\n",
    "    comparison_operator = f'({obj[2]} == {obj[3]}) = {obj[0] == obj[1]}'\n",
    "    identity_operator = f'({obj[2]} is {obj[3]}) = {obj[0] is obj[1]}'\n",
    "    print(f'{comparison_operator:30}{identity_operator}')\n",
    "\n",
    "print('compare_objs() defined.')    "
   ]
  },
  {
   "cell_type": "code",
   "execution_count": null,
   "metadata": {},
   "outputs": [],
   "source": [
    "str1 = 'Alex';            str2 = 'Alex'\n",
    "int1 = 23;                int2 = 23\n",
    "float1 = 0.0;             float2 = 0.0\n",
    "bool1 = True;             bool2 = True\n",
    "none1 = None;             none2 = None\n",
    "list1 = [23];             list2 = [23]\n",
    "tuple1 = (23,);           tuple2 = (23,)\n",
    "set1 = {33, 23};          set2 = {33, 23}\n",
    "dict1 = {'id': 23};       dict2 = {'id': 23}\n",
    "\n",
    "objs = ((str1, str2, 'str1', 'str2'),\n",
    "        (int1, int2, 'int1', 'int2'), (float1, float2, 'float1', 'float2'),\n",
    "        (bool1, bool2, 'bool1', 'bool2'), (none1, none2, 'none1', 'none2'), \n",
    "        (list1, list2, 'list1', 'list2'), (tuple1, tuple2, 'tuple1', 'tuple2'), \n",
    "        (set1, set2, 'set1', 'set2'), (dict1, dict2, 'dict1', 'dict2'))\n",
    "\n",
    "for obj in objs:\n",
    "    compare_objs(*obj)"
   ]
  },
  {
   "cell_type": "code",
   "execution_count": null,
   "metadata": {},
   "outputs": [],
   "source": [
    "# 上面的code等於這樣一個個寫。\n",
    "str1 = 'Alex'; str2 = 'Alex'\n",
    "compare_objs(str1, str2, 'str1', 'str2')\n",
    "\n",
    "int1 = 23; int2 = 23\n",
    "compare_objs(int1, int2, 'int1', 'int2')\n",
    "\n",
    "..."
   ]
  },
  {
   "attachments": {},
   "cell_type": "markdown",
   "metadata": {},
   "source": [
    "<div style=\"font-family: 'Inconsolata', 'Noto Sans TC'; font-size: 115%; line-height: 135%;\">\n",
    "\n",
    "### 先聚焦於字串。\n",
    "\n",
    "* 以 <span style=\"font-size: 150%; font-weight: 800; color: Gold;\">is</span> 判斷str1和str2，結果傳回 <span style=\"font-size: 150%; font-weight: 800; color: Gold;\">True</span> ，表示str1和str2是同一個物件。\n",
    "    ![](./assets/string%20interning-16.png)\n",
    "* 以下用id()證明兩個字串變數，其值相同，就是同一物件。"
   ]
  },
  {
   "cell_type": "code",
   "execution_count": null,
   "metadata": {},
   "outputs": [],
   "source": [
    "name1 = 'Alex'   # name1和name2的值相同。\n",
    "name2 = 'Alex'\n",
    "print(f'{name1 = }\\t\\t{name2 = }')    # 兩者id()相同。\n",
    "print(f'{id(name1) = :<25}{id(name2) = }')\n",
    "print(f'{(id(name1) == id(name2)) = }')   # 所以兩者指向同一reference。"
   ]
  },
  {
   "attachments": {},
   "cell_type": "markdown",
   "metadata": {},
   "source": [
    "<div style=\"font-family: 'Inconsolata', 'Noto Sans TC'; font-size: 115%; line-height: 135%;\">\n",
    "\n",
    "### 為甚麼「值」相同就是「同一物件」？\n",
    "\n",
    "* 一些現代程式語言如Java, C#, Python, PHP, Ruby, Julia, ...等，如果多個字串變數(variables)內容相同，內部只會留下一份copy，這些不同名稱的變數全指向該copy的reference。意思是多個變數共用同一份字串，而非各有一份。\n",
    "* 這個內容相同字串「只留一份」的機制，稱為<b>`string interning`</b>，intern這裡不是「實習」，而是「扣留、拘禁」。\n",
    "* <b>`string interning`</b>的目的，是節省記憶體儲存空間，在比對時更有效率：\n",
    "    * 節省空間不言而喻，一份copy當然比多份copies少占用記憶體。\n",
    "    * 比對時更有效率也不難理解，只核對一個reference(記憶體位置)，肯定快於逐個字元取出一一比較。"
   ]
  },
  {
   "attachments": {},
   "cell_type": "markdown",
   "metadata": {},
   "source": [
    "<div style=\"font-family: 'Inconsolata', 'Noto Sans TC'; font-size: 115%; line-height: 135%;\">\n",
    "\n",
    "### Why <b>`string interning`</b> is important?\n",
    "\n",
    "* Let’s assume that you have an application where a lot of string operations are happening. If we were to use equality operator <span style=\"font-size: 120%; font-weight: 800; color: Gold;\">==</span> for comparing long strings Python tries to compare it character by character and obviously it will take some time. But if these long strings can be interned then we know that they point to the same memory location. In such a case we can use <span style=\"font-size: 120%; font-weight: 800; color: Gold;\">is</span> keyword for comparing memory locations as it works much faster."
   ]
  },
  {
   "attachments": {},
   "cell_type": "markdown",
   "metadata": {},
   "source": [
    "<div style=\"font-family: 'Inconsolata', 'Noto Sans TC'; font-size: 115%; line-height: 135%;\">\n",
    "  \n",
    "### 先打個岔：<b>`string interning`</b>帶來的「副作用」\n",
    "\n",
    "* 正因為有interning機制，string就必須是<span style=\"font-size: 120%; font-weight: 800; color: Plum;\">immutable</span>，即同一reference其內容一旦設定即不可改變(註1)。\n",
    "\n",
    "    ```python=\n",
    "    'ABC'[1] = 'b'   # immutable的真正含意是：同一reference的內容(元素)不能改變。\n",
    "                     # 所以這樣寫不合法。\n",
    "    name = 'Alex'\n",
    "    name = 'Mirror'  # 這是產生一個新reference，當然沒問題。\n",
    "    ```\n",
    "\n",
    "* 請想像：假如程式語言具有<b>`string interning`</b>機制，但字串卻設計成mutable(內容可變)，則修改某一變數內容，其他interning字串都會隨之更改。這個「連動效果」通常不是我們想要的。我們希望的是每個變數「相互獨立」而非「相互牽扯」。牽一髮不能動全身啊。\n",
    "---\n",
    "* 註1：不過兩者「因果關係」是否全如上述，筆者才疏學淺，暫無法確定。"
   ]
  },
  {
   "cell_type": "code",
   "execution_count": null,
   "metadata": {},
   "outputs": [],
   "source": [
    "his_name = 'Liam'\n",
    "her_name = 'Liam'  # 打錯了，應為'Lian'。\n",
    "\n",
    "print(f'{his_name = }\\t\\t\\t{her_name = }')\n",
    "print(f'{id(his_name) = :<25}{id(her_name) = }')\n",
    "print(f'{(id(his_name) == id(her_name)) = }')\n",
    "\n",
    "# her_name[-1] = 'n'    # 假如允許這樣修改her_name...\n",
    "# print(f'{his_name = }\\t\\t\\t{her_name = }')   # 那麼his_name也會跟著更改。"
   ]
  },
  {
   "attachments": {},
   "cell_type": "markdown",
   "metadata": {},
   "source": [
    "<div style=\"font-family: 'Inconsolata', 'Noto Sans TC'; font-size: 115%; line-height: 135%;\">\n",
    "\n",
    "### 回歸正題\n",
    "\n",
    "* 「夫尺有所短，寸有所長，物有所不足，智有所不明，數有所不逮，神有所不通。」--屈原《楚辭．卜居》\n",
    "* 「金無足赤，人無完人。」--宋．戴復古《寄興》\n",
    "* 天下沒有白吃的午餐。--高希均名言\n",
    "* 也沒有完美無缺的機制。Nothing is perfect!<br>\n",
    "![](./assets/you%20don't%20need%20to%20be%20perfect.png)\n",
    "---\n",
    "* <b>`string interning`</b>固然可提高效能和節約空間，不過要去intern字串，以及維護interned字串的pool，也需要時間。\n",
    "* 如果某個字串很長很長，又不會或絕少和其他字串比對，也許就不值得花額外時間去intern這個字串了。\n",
    "* 所以，為了在帶來的紅利和付出的代價之間取得平衡，Python並不會intern所有字串，而是訂些「遊戲規則」，用來判斷某某字串要不要intern。\n",
    "* 麻煩來了：這些遊戲規則，會讓<b>`string interning`</b>機制「天威難測」。原因是規則本身就繁瑣，再加上不同的Python實作(註1)可能有不同規定，即使是同一實作(如最普及的CPython)，也會因不同版本(註2)而規矩有所差異。\n",
    "---\n",
    "* 註1：如CPython, IronPython, Jython, PyPy, MicroPython, ...\n",
    "* 註2：例如CPython 3.7版以前使用[peephole optimization](https://github.com/python/cpython/blob/0f21fe6155227d11dc02bd3ef3b061de4ecea445/Python/peephole.c)方法決定是否intern字串，而3.8版以後則改為[AST optimizer](https://github.com/python/cpython/blob/3.7/Python/ast_opt.c)。本文在CPython 3.10.6版測試。"
   ]
  },
  {
   "attachments": {},
   "cell_type": "markdown",
   "metadata": {},
   "source": [
    "<div style=\"font-family: 'Inconsolata', 'Noto Sans TC'; font-size: 115%; line-height: 135%;\">\n",
    "\n",
    "## 以下是一些<b>`string interning`</b>規則例子\n",
    "\n",
    "* 肯定不周延，筆者也無意周延。\n"
   ]
  },
  {
   "attachments": {},
   "cell_type": "markdown",
   "metadata": {},
   "source": [
    "<div style=\"font-family: 'Inconsolata', 'Noto Sans TC'; font-size: 115%; line-height: 135%;\">\n",
    "\n",
    "### CPython 3.10版<b>`string interning`</b>規則-1\n",
    "\n",
    "* 字串中有空白者不intern。"
   ]
  },
  {
   "cell_type": "code",
   "execution_count": null,
   "metadata": {},
   "outputs": [],
   "source": [
    "name1 = 'Alex Van'\n",
    "name2 = 'Alex Van'\n",
    "\n",
    "print(f'{name1 = }\\t\\t\\t{name2 = }')\n",
    "print(f'{id(name1) = :<28}{id(name2) = }')\n",
    "print(f'{(id(name1) == id(name2)) = }')"
   ]
  },
  {
   "attachments": {},
   "cell_type": "markdown",
   "metadata": {},
   "source": [
    "![](./assets/string%20interning-17.png)"
   ]
  },
  {
   "attachments": {},
   "cell_type": "markdown",
   "metadata": {},
   "source": [
    "<div style=\"font-family: 'Inconsolata', 'Noto Sans TC'; font-size: 115%; line-height: 135%;\">\n",
    "\n",
    "### CPython 3.10版<b>`string interning`</b>規則-2\n",
    "\n",
    "* 全部由ASCII 127以內字元組成的字串才會intern。"
   ]
  },
  {
   "cell_type": "code",
   "execution_count": null,
   "metadata": {},
   "outputs": [],
   "source": [
    "os1 = 'Linux©'     # ©是ASCII 128以上的字元。\n",
    "os2 = 'Linux©'\n",
    "\n",
    "print(f'{os1 = }\\t\\t\\t{os2 = }')\n",
    "print(f'{id(os1) = :<22}{id(os2) = }')\n",
    "print(f'{(id(os1) == id(os2)) = }')"
   ]
  },
  {
   "attachments": {},
   "cell_type": "markdown",
   "metadata": {},
   "source": [
    "![](./assets/string%20interning-12.png)\n",
    "![](./assets/string%20interning-13.png)"
   ]
  },
  {
   "attachments": {},
   "cell_type": "markdown",
   "metadata": {},
   "source": [
    "<div style=\"font-family: 'Inconsolata', 'Noto Sans TC'; font-size: 115%; line-height: 135%;\">\n",
    "\n",
    "* 所以包含中文的字串是不會有<b>`string interning`</b>的。"
   ]
  },
  {
   "cell_type": "code",
   "execution_count": null,
   "metadata": {},
   "outputs": [],
   "source": [
    "name1 = '張曼玉'\n",
    "name2 = '張曼玉'\n",
    "\n",
    "print(f'{name1 = }\\t\\t{name2 = }')\n",
    "print(f'{id(name1) = :<20}{id(name2) = }')\n",
    "print(f'{(id(name1) == id(name2)) = }')"
   ]
  },
  {
   "attachments": {},
   "cell_type": "markdown",
   "metadata": {},
   "source": [
    "![](./assets/string%20interning-14.png)"
   ]
  },
  {
   "attachments": {},
   "cell_type": "markdown",
   "metadata": {},
   "source": [
    "<div style=\"font-family: 'Inconsolata', 'Noto Sans TC'; font-size: 115%; line-height: 135%;\">\n",
    "\n",
    "### CPython 3.10版<b>`string interning`</b>規則-3\n",
    "\n",
    "* 長度超過4,096個字元的字串不intern。\n",
    "* CPython 3.7版本以前長度限制為20個字元。"
   ]
  },
  {
   "cell_type": "code",
   "execution_count": null,
   "metadata": {},
   "outputs": [],
   "source": [
    "str1 = 'A' * 4_096    # 連用5個4_096，何以不用變數？\n",
    "str2 = 'A' * 4_096    # Alex是否功力大退？\n",
    "str3 = 'A' * 4_096    # 當然不是。\n",
    "str4 = 'A' * 4_096    # 請耐心看下去，自然明白。\n",
    "str5 = 'A' * 4_096\n",
    "print(f'{id(str1)=:<20}{id(str2)=:<20}{id(str3)=:<20}{id(str4)=:<20}{id(str5)=}')\n",
    "print(f'{(id(str1) == id(str2) == id(str3) == id(str4) == id(str5)) = }')"
   ]
  },
  {
   "attachments": {},
   "cell_type": "markdown",
   "metadata": {},
   "source": [
    "![](./assets/string%20interning-9.png)\n",
    "![](./assets/string%20interning-10.png)"
   ]
  },
  {
   "attachments": {},
   "cell_type": "markdown",
   "metadata": {},
   "source": [
    "<div style=\"font-family: 'Inconsolata', 'Noto Sans TC'; font-size: 115%; line-height: 135%;\">\n",
    "\n",
    "### CPython 3.10版<b>`string interning`</b>規則-4\n",
    "\n",
    "* 字串由string variable或string literal(註1)構成，有不同interning規則：\n",
    "    * 下面的字串「會」觸發<b>`string interning`</b>:\n",
    "        * 單一variable\n",
    "        * 單一literal\n",
    "        * literal + literal\n",
    "    * 下面的字串「不會」觸發<b>`string interning`</b>(但有例外):\n",
    "        * variable + variable\n",
    "        * variable + literal\n",
    "        * literal + variable\n",
    "* 夠繁瑣了吧？\n",
    "---\n",
    "* 註1：variable是「變數」，literal為「定數」。例如在<span style=\"font-size: 150%; font-weight: 800; color: Gold;\">`name = 'Alex'`</span>中，<span style=\"font-size: 150%; font-weight: 800; color: Gold;\">`name`</span>是variable，<span style=\"font-size: 150%; font-weight: 800; color: Gold;\">`'Alex'`</span>則是literal。"
   ]
  },
  {
   "cell_type": "code",
   "execution_count": null,
   "metadata": {},
   "outputs": [],
   "source": [
    "first = 'first'\n",
    "last = 'last'\n",
    "name1 = 'first' + 'last'\n",
    "name2 = 'first' + 'last'\n",
    "\n",
    "print(f'{name1 = }\\t\\t{name2 = }')\n",
    "print(f'{id(name1) = :<20}{id(name2) = }')\n",
    "print(f'{(id(name1) == id(name2)) = }')"
   ]
  },
  {
   "attachments": {},
   "cell_type": "markdown",
   "metadata": {},
   "source": [
    "<div style=\"font-family: 'Inconsolata', 'Noto Sans TC'; font-size: 115%; line-height: 135%;\">\n",
    "\n",
    "### Life is Short\n",
    "\n",
    "* 人生苦短，為何要花寶貴精力去記憶這些瑣碎規則？\n",
    "* 況且規則還可能改來改去。\n",
    "* 時間應該用於有生產力的地方，而不是拿來強記繁複又易變動的內部規則。\n",
    "    ![](./assets/time%20and%20money.jpg)"
   ]
  },
  {
   "attachments": {},
   "cell_type": "markdown",
   "metadata": {},
   "source": [
    "<div style=\"font-family: 'Inconsolata', 'Noto Sans TC'; font-size: 115%; line-height: 135%;\">\n",
    "\n",
    "### 有簡單的解決辦法嗎？\n",
    "\n",
    "* 請放心，Python永遠都會幫我們開扇窗的。\n",
    "    ![](./assets/open%20window-1.jpg)"
   ]
  },
  {
   "attachments": {},
   "cell_type": "markdown",
   "metadata": {},
   "source": [
    "<div style=\"font-family: 'Inconsolata', 'Noto Sans TC'; font-size: 115%; line-height: 135%;\">\n",
    "\n",
    "### 內建的intern()函數\n",
    "\n",
    "* 上面所述的是Python自動提供的內隱式(implicit)<b>`string interning`</b>機制。\n",
    "* 但此機制太過冗雜，建議不用記，也不要倚賴它來判斷字串是否為同一物件。\n",
    "* 如果想有interning效果，請用Python內建的intern()函數外顯設定(intern a string explicitly)。"
   ]
  },
  {
   "attachments": {},
   "cell_type": "markdown",
   "metadata": {},
   "source": [
    "<div style=\"font-family: 'Inconsolata', 'Noto Sans TC'; font-size: 115%; line-height: 135%;\">\n",
    "\n",
    "![](./assets/Python%20the%20snake-1.jpg)"
   ]
  },
  {
   "attachments": {},
   "cell_type": "markdown",
   "metadata": {},
   "source": [
    "<div style=\"font-family: 'Inconsolata', 'Noto Sans TC'; font-size: 115%; line-height: 135%;\">\n",
    "\n",
    "### 原規則：字串中有空白者不intern"
   ]
  },
  {
   "cell_type": "code",
   "execution_count": null,
   "metadata": {},
   "outputs": [],
   "source": [
    "name1 = 'Alex Van'\n",
    "name2 = 'Alex Van'\n",
    "\n",
    "print(f'{name1 = }\\t\\t\\t{name2 = }')\n",
    "print(f'{id(name1) = :<28}{id(name2) = }')\n",
    "print(f'{(id(name1) == id(name2)) = }')"
   ]
  },
  {
   "attachments": {},
   "cell_type": "markdown",
   "metadata": {},
   "source": [
    "<div style=\"font-family: 'Inconsolata', 'Noto Sans TC'; font-size: 115%; line-height: 135%;\">\n",
    "\n",
    "### 改用intern()函數："
   ]
  },
  {
   "cell_type": "code",
   "execution_count": null,
   "metadata": {},
   "outputs": [],
   "source": [
    "import sys\n",
    "\n",
    "name1 = sys.intern('Alex Van')\n",
    "name2 = sys.intern('Alex Van')\n",
    "\n",
    "print(f'{name1 = }\\t\\t\\t{name2 = }')\n",
    "print(f'{id(name1) = :<28}{id(name2) = }')\n",
    "print(f'{(id(name1) == id(name2)) = }')"
   ]
  },
  {
   "attachments": {},
   "cell_type": "markdown",
   "metadata": {},
   "source": [
    "<div style=\"font-family: 'Inconsolata', 'Noto Sans TC'; font-size: 115%; line-height: 135%;\">\n",
    "\n",
    "![](./assets/string%20interning-15.png)"
   ]
  },
  {
   "attachments": {},
   "cell_type": "markdown",
   "metadata": {},
   "source": [
    "<div style=\"font-family: 'Inconsolata', 'Noto Sans TC'; font-size: 115%; line-height: 135%;\">\n",
    "\n",
    "### 原規則：內含ASCII 128以上字元者不intern"
   ]
  },
  {
   "cell_type": "code",
   "execution_count": null,
   "metadata": {},
   "outputs": [],
   "source": [
    "os1 = 'Linux©'\n",
    "os2 = 'Linux©'\n",
    "\n",
    "print(f'{os1 = }\\t\\t\\t{os2 = }')\n",
    "print(f'{id(os1) = :<22}{id(os2) = }')\n",
    "print(f'{(id(os1) == id(os2)) = }')"
   ]
  },
  {
   "cell_type": "code",
   "execution_count": null,
   "metadata": {},
   "outputs": [],
   "source": [
    "name1 = '張曼玉'\n",
    "name2 = '張曼玉'\n",
    "\n",
    "print(f'{name1 = }\\t\\t{name2 = }')\n",
    "print(f'{id(name1) = :<20}{id(name2) = }')\n",
    "print(f'{(id(name1) == id(name2)) = }')"
   ]
  },
  {
   "attachments": {},
   "cell_type": "markdown",
   "metadata": {},
   "source": [
    "<div style=\"font-family: 'Inconsolata', 'Noto Sans TC'; font-size: 115%; line-height: 135%;\">\n",
    "\n",
    "### 改用intern()函數："
   ]
  },
  {
   "cell_type": "code",
   "execution_count": null,
   "metadata": {},
   "outputs": [],
   "source": [
    "import sys\n",
    "\n",
    "os1 = sys.intern('Linux©')\n",
    "os2 = sys.intern('Linux©')\n",
    "\n",
    "print(f'{os1 = }\\t\\t\\t{os2 = }')\n",
    "print(f'{id(os1) = :<22}{id(os2) = }')\n",
    "print(f'{(id(os1) == id(os2)) = }')"
   ]
  },
  {
   "cell_type": "code",
   "execution_count": null,
   "metadata": {},
   "outputs": [],
   "source": [
    "import sys\n",
    "\n",
    "name1 = sys.intern('張曼玉')\n",
    "name2 = sys.intern('張曼玉')\n",
    "\n",
    "print(f'{name1 = }\\t\\t{name2 = }')\n",
    "print(f'{id(name1) = :<20}{id(name2) = }')\n",
    "print(f'{(id(name1) == id(name2)) = }')"
   ]
  },
  {
   "attachments": {},
   "cell_type": "markdown",
   "metadata": {},
   "source": [
    "<div style=\"font-family: 'Inconsolata', 'Noto Sans TC'; font-size: 115%; line-height: 135%;\">\n",
    "\n",
    "### 原規則：長度超過4,096個字元的字串不intern"
   ]
  },
  {
   "cell_type": "code",
   "execution_count": null,
   "metadata": {},
   "outputs": [],
   "source": [
    "str1 = 'A' * 4_097\n",
    "str2 = 'A' * 4_097\n",
    "\n",
    "print(f'{id(str1)=:<20}{id(str2)=:<20}')\n",
    "print(f'{(id(str1) == id(str2)) = }')"
   ]
  },
  {
   "attachments": {},
   "cell_type": "markdown",
   "metadata": {},
   "source": [
    "<div style=\"font-family: 'Inconsolata', 'Noto Sans TC'; font-size: 115%; line-height: 135%;\">\n",
    "\n",
    "### 改用intern()函數："
   ]
  },
  {
   "cell_type": "code",
   "execution_count": null,
   "metadata": {},
   "outputs": [],
   "source": [
    "from sys import intern\n",
    "\n",
    "str1 = intern('A' * 4_097)\n",
    "str2 = intern('A' * 4_097)\n",
    "\n",
    "print(f'{id(str1)=:<20}{id(str2)=:<20}')\n",
    "print(f'{(id(str1) == id(str2)) = }')"
   ]
  },
  {
   "attachments": {},
   "cell_type": "markdown",
   "metadata": {},
   "source": [
    "<div style=\"font-family: 'Inconsolata', 'Noto Sans TC'; font-size: 115%; line-height: 135%;\">\n",
    "\n",
    "### 原規則：字串由variable組合而成者不intern"
   ]
  },
  {
   "cell_type": "code",
   "execution_count": null,
   "metadata": {},
   "outputs": [],
   "source": [
    "first = 'first'\n",
    "last = 'last'\n",
    "name1 = first + 'last'\n",
    "name2 = 'first' + 'last'\n",
    "\n",
    "print(f'{name1 = }\\t\\t{name2 = }')\n",
    "print(f'{id(name1) = :<20}{id(name2) = }')\n",
    "print(f'{(id(name1) == id(name2)) = }')"
   ]
  },
  {
   "attachments": {},
   "cell_type": "markdown",
   "metadata": {},
   "source": [
    "<div style=\"font-family: 'Inconsolata', 'Noto Sans TC'; font-size: 115%; line-height: 135%;\">\n",
    "\n",
    "### 改用intern()函數："
   ]
  },
  {
   "cell_type": "code",
   "execution_count": null,
   "metadata": {},
   "outputs": [],
   "source": [
    "from sys import intern\n",
    "\n",
    "first = 'first'\n",
    "last = 'last'\n",
    "name1 = intern(first + 'last')\n",
    "name2 = intern('first' + 'last')\n",
    "\n",
    "print(f'{name1 = }\\t\\t{name2 = }')\n",
    "print(f'{id(name1) = :<20}{id(name2) = }')\n",
    "print(f'{(id(name1) == id(name2)) = }')"
   ]
  },
  {
   "attachments": {},
   "cell_type": "markdown",
   "metadata": {},
   "source": [
    "<div style=\"font-family: 'Inconsolata', 'Noto Sans TC'; font-size: 115%; line-height: 135%;\">\n",
    "\n",
    "![](./assets/pipes-2.jpg)"
   ]
  },
  {
   "attachments": {},
   "cell_type": "markdown",
   "metadata": {},
   "source": [
    "<div style=\"font-family: 'Inconsolata', 'Noto Sans TC'; font-size: 115%; line-height: 135%;\">\n",
    "\n",
    "### 案情突然翻轉...\n",
    "\n",
    "![](./assets/Sherlock%20Holmes-1.jpg)\n",
    "\n",
    "![](./assets/street-1.jpg)"
   ]
  },
  {
   "attachments": {},
   "cell_type": "markdown",
   "metadata": {},
   "source": [
    "<div style=\"font-family: 'Inconsolata', 'Noto Sans TC'; font-size: 115%; line-height: 135%;\">\n",
    "\n",
    "### 整數的interning\n",
    "\n",
    "* Explicit integer interning也有上下限。\n",
    "* -5 ~ 256的整數會自動intern，257以上則不會。\n",
    "* -5 ~ 256的整數又稱作singleton objects(只有一份)。"
   ]
  },
  {
   "cell_type": "code",
   "execution_count": null,
   "metadata": {},
   "outputs": [],
   "source": [
    "num1 = -5    # implicit的整數interning範圍為-5 ~ 256。\n",
    "num2 = -5\n",
    "print(f'{num1 = }\\t\\t{num2 = }')\n",
    "print(f'{id(num1) = :<20}{id(num2) = }')\n",
    "print(f'{(id(num1) == id(num2)) = }')\n",
    "\n",
    "print()\n",
    "num1 = -6    # implicit的整數interning範圍為-5 ~ 256。\n",
    "num2 = -6\n",
    "print(f'{num1 = }\\t\\t{num2 = }')\n",
    "print(f'{id(num1) = :<20}{id(num2) = }')\n",
    "print(f'{(id(num1) == id(num2)) = }')"
   ]
  },
  {
   "cell_type": "code",
   "execution_count": null,
   "metadata": {},
   "outputs": [],
   "source": [
    "num1 = 256\n",
    "num2 = 256\n",
    "print(f'{num1 = }\\t\\t{num2 = }')\n",
    "print(f'{id(num1) = :<20}{id(num2) = }')\n",
    "print(f'{(id(num1) == id(num2)) = }')\n",
    "\n",
    "print()\n",
    "num1 = 257\n",
    "numy2 = 257\n",
    "print(f'{num1 = }\\t\\t{num2 = }')\n",
    "print(f'{id(num1) = :<20}{id(num2) = }')\n",
    "print(f'{(id(num1) == id(num2)) = }')"
   ]
  },
  {
   "cell_type": "markdown",
   "metadata": {},
   "source": [
    "<div style=\"font-family: 'Inconsolata', 'Noto Sans TC'; font-size: 115%; line-height: 135%;\">\n",
    "\n"
   ]
  },
  {
   "attachments": {},
   "cell_type": "markdown",
   "metadata": {},
   "source": [
    "<div style=\"font-family: 'Inconsolata', 'Noto Sans TC'; font-size: 115%; line-height: 135%;\">\n",
    "\n",
    "### 目前筆者不知道如何外顯intern整數\n",
    "\n",
    "* 所以暫時無解。"
   ]
  },
  {
   "cell_type": "code",
   "execution_count": null,
   "metadata": {},
   "outputs": [],
   "source": [
    "from sys import intern\n",
    "\n",
    "num1 = intern(257)    # implicit的整數interning上限為256。\n",
    "num2 = intern(257)\n",
    "\n",
    "print(f'{num1 = }\\t\\t{num2 = }')\n",
    "print(f'{id(num1) = :<20}{id(num2) = }')\n",
    "print(f'{(id(num1) == id(num2)) = }')"
   ]
  },
  {
   "attachments": {},
   "cell_type": "markdown",
   "metadata": {},
   "source": [
    "<div style=\"font-family: 'Gen Jyuu Gothic Monospace Medium', 'Noto Sans TC'; font-size: 200%; line-height: 135%; text-align: center; color: Plum;\">\n",
    "\n",
    "<br><br>\n",
    "# The End"
   ]
  }
 ],
 "metadata": {
  "kernelspec": {
   "display_name": "Python 3",
   "language": "python",
   "name": "python3"
  },
  "language_info": {
   "codemirror_mode": {
    "name": "ipython",
    "version": 3
   },
   "file_extension": ".py",
   "mimetype": "text/x-python",
   "name": "python",
   "nbconvert_exporter": "python",
   "pygments_lexer": "ipython3",
   "version": "3.10.6"
  },
  "orig_nbformat": 4,
  "vscode": {
   "interpreter": {
    "hash": "31f2aee4e71d21fbe5cf8b01ff0e069b9275f58929596ceb00d14d90e3e16cd6"
   }
  }
 },
 "nbformat": 4,
 "nbformat_minor": 2
}
