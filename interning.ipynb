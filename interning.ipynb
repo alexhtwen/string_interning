{
 "cells": [
  {
   "attachments": {},
   "cell_type": "markdown",
   "metadata": {},
   "source": [
    "<div style=\"font-family: 'Gen Jyuu Gothic Monospace Medium', 'Noto Sans TC'; font-size: 115%; line-height: 135%; text-align: center; color: Plum;\">\n",
    "\n",
    "<br>\n",
    "\n",
    "# String Interning 字串駐留          "
   ]
  },
  {
   "attachments": {},
   "cell_type": "markdown",
   "metadata": {},
   "source": [
    "<div style=\"font-family: 'Inconsolata', 'Noto Sans TC'; font-size: 115%; line-height: 135%;\">\n",
    "\n",
    "* 本文附帶說明字串為何是immutable(不可變)的。\n",
    "* 原因先賣個關子，稍後各位自然了解..."
   ]
  },
  {
   "cell_type": "code",
   "execution_count": 35,
   "metadata": {},
   "outputs": [
    {
     "name": "stdout",
     "output_type": "stream",
     "text": [
      "InteractiveShell set.\n",
      "3.10.6 (main, Nov  2 2022, 18:53:38) [GCC 11.3.0]\n"
     ]
    }
   ],
   "source": [
    "import sys\n",
    "from IPython.core.interactiveshell import InteractiveShell\n",
    "\n",
    "InteractiveShell.ast_node_interactivity = \"all\"\n",
    "print(\"InteractiveShell set.\")\n",
    "print(sys.version)\n",
    "\n",
    "print()\n",
    "print()\n",
    "print('eeeeeee')"
   ]
  },
  {
   "cell_type": "markdown",
   "metadata": {},
   "source": [
    "<div style=\"font-family: 'Inconsolata', 'Noto Sans TC'; font-size: 115%; line-height: 135%;\">\n",
    "\n",
    "### 設定兩兩內容相同的物件\n",
    "* 目的是觀察：\n",
    "    * 內容是否相等，用`==`。\n",
    "    * 是否同一物件，用`is`。"
   ]
  },
  {
   "cell_type": "code",
   "execution_count": 3,
   "metadata": {},
   "outputs": [
    {
     "name": "stdout",
     "output_type": "stream",
     "text": [
      "compare_objs() defined.\n"
     ]
    }
   ],
   "source": [
    "# def compare_objs(obj1: object, obj2: object, var1: str, var2: str) -> None:\n",
    "def compare_objs(*obj) -> None:\n",
    "    # this_type = str(type(obj[0])).split()[1][1:-2]\n",
    "    equal_operator = f'({obj[2]} == {obj[3]}) = {obj[0] == obj[1]}'\n",
    "    is_operator = f'({obj[2]} is {obj[3]}) = {obj[0] is obj[1]}'\n",
    "    print(f'{equal_operator:30}{is_operator}')\n",
    "    # print(obj1)\n",
    "\n",
    "print('compare_objs() defined.')    "
   ]
  },
  {
   "cell_type": "code",
   "execution_count": 58,
   "metadata": {},
   "outputs": [
    {
     "name": "stdout",
     "output_type": "stream",
     "text": [
      "(str1 == str2) = True         (str1 is str2) = False\n",
      "(int1 == int2) = True         (int1 is int2) = True\n",
      "(float1 == float2) = True     (float1 is float2) = False\n",
      "(bool1 == bool2) = True       (bool1 is bool2) = True\n",
      "(none1 == none2) = True       (none1 is none2) = True\n",
      "(list1 == list2) = True       (list1 is list2) = False\n",
      "(tuple1 == tuple2) = True     (tuple1 is tuple2) = False\n",
      "(set1 == set2) = True         (set1 is set2) = False\n",
      "(dict1 == dict2) = True       (dict1 is dict2) = False\n"
     ]
    }
   ],
   "source": [
    "str1 = 'Alex';        str2 = 'Alex'\n",
    "int1 = 23;            int2 = 23\n",
    "float1 = 0.0;         float2 = 0.0\n",
    "bool1 = True;         bool2 = True\n",
    "none1 = None;         none2 = None\n",
    "list1 = [23];         list2 = [23]\n",
    "tuple1 = (23,);       tuple2 = (23,)\n",
    "set1 = {33, 23};      set2 = {33, 23}\n",
    "dict1 = {'id': 23};   dict2 = {'id': 23}\n",
    "objs = ((str1, str2, 'str1', 'str2'), (int1, int2, 'int1', 'int2'), (float1, float2, 'float1', 'float2'), (bool1, bool2, 'bool1', 'bool2'), (none1, none2, 'none1', 'none2'), \n",
    "        (list1, list2, 'list1', 'list2'), (tuple1, tuple2, 'tuple1', 'tuple2'), (set1, set2, 'set1', 'set2'), (dict1, dict2, 'dict1', 'dict2'))\n",
    "\n",
    "# print('\\n'*3)\n",
    "for obj in objs:\n",
    "    compare_objs(*obj)"
   ]
  },
  {
   "cell_type": "code",
   "execution_count": 21,
   "metadata": {},
   "outputs": [
    {
     "name": "stdout",
     "output_type": "stream",
     "text": [
      "(obj1 == obj2) = True         (obj1 is obj2) = True\n",
      "(obj1 == obj2) = True         (obj1 is obj2) = True\n"
     ]
    },
    {
     "data": {
      "text/plain": [
       "Ellipsis"
      ]
     },
     "execution_count": 21,
     "metadata": {},
     "output_type": "execute_result"
    }
   ],
   "source": [
    "# 上cell的code等於這樣一個個寫。\n",
    "obj1 = 'Alex'; obj2 = 'Alex'\n",
    "compare_objs(obj1, obj2, 'obj1', 'obj2')\n",
    "\n",
    "obj1 = 23; obj2 = 23\n",
    "compare_objs(obj1, obj2, 'obj1', 'obj2')\n",
    "\n",
    "..."
   ]
  },
  {
   "cell_type": "markdown",
   "metadata": {},
   "source": [
    "<div style=\"font-family: 'Inconsolata', 'Noto Sans TC'; font-size: 115%; line-height: 135%;\">\n",
    "\n",
    "### 先聚焦在字串。\n",
    "\n",
    "* 以`is`判斷str1和str2，結果傳回`True`，表示str1和str2是同一個物件。\n",
    "    ![](./assets/string%20interning-6.png)\n",
    "* 以下證明兩個字串變數，其值相同時是同一物件，看id()就知道了。"
   ]
  },
  {
   "cell_type": "code",
   "execution_count": 28,
   "metadata": {},
   "outputs": [
    {
     "name": "stdout",
     "output_type": "stream",
     "text": [
      "name1 = 'Alex'\t\tname2 = 'Alex'\n",
      "id(name1) = 140047414407408          id(name2) = 140047414407408\n",
      "(id(name1) == id(name2)) = True\n"
     ]
    }
   ],
   "source": [
    "name1 = 'Alex'\n",
    "name2 = 'Alex'\n",
    "print(f'{name1 = }\\t\\t{name2 = }')\n",
    "print(f'{id(name1) = :<25}{id(name2) = }')\n",
    "print(f'{(id(name1) == id(name2)) = }')"
   ]
  },
  {
   "cell_type": "markdown",
   "metadata": {},
   "source": [
    "<div style=\"font-family: 'Inconsolata', 'Noto Sans TC'; font-size: 115%; line-height: 135%;\">\n",
    "\n",
    "### 為甚麼是同一物件？\n",
    "\n",
    "* 一些現代程式語言如Java, C#, Python, PHP, Ruby, Julia, ...等，如果多個字串變數(variables)內容相同，只會留下一份copy，這些變數全指向該copy的reference。意思是多個變數共用同一份字串，而非分別擁有獨立字串。\n",
    "* 這個只留一份字串的機制，稱為`string interning`，intern有扣留、拘禁之意。\n",
    "* `string interning`的目的，是提升時間和空間使用的效能。可節省字串的儲存記憶體空間，在比對時更有效率：\n",
    "    * 節省空間不言而喻，一份copy當然比多份copies少占用記憶體。\n",
    "    * 比對時更有效率這事也不難理解，只比對一個reference(記憶體位置)，肯定快於逐個字元取出比對。"
   ]
  },
  {
   "cell_type": "markdown",
   "metadata": {},
   "source": [
    "<div style=\"font-family: 'Inconsolata', 'Noto Sans TC'; font-size: 115%; line-height: 135%;\">\n",
    "  \n",
    "### 番外篇：隨著`string interning`而來的限制\n",
    "\n",
    "* 正因為有interning機制，string就必須是immutable，即其內容不可改變。\n",
    "* 假如程式語言有`string interning`機制，但字串卻設計成mutable(內容可變)，則修改某一變數內容，其他interning的字串都會隨之變更。這個「連動效果」通常不是我們想要的，我們希望的是每個變數相互獨立而非相互牽扯。"
   ]
  },
  {
   "cell_type": "code",
   "execution_count": 57,
   "metadata": {},
   "outputs": [
    {
     "name": "stdout",
     "output_type": "stream",
     "text": [
      "his_name = 'Liam'\t\t\ther_name = 'Liam'\n",
      "id(his_name) = 140047410843568          id(her_name) = 140047410843568\n",
      "(id(his_name) == id(her_name)) = True\n"
     ]
    }
   ],
   "source": [
    "his_name = 'Liam'             # '': ASCII 127\n",
    "her_name = 'Liam'\n",
    "\n",
    "print(f'{his_name = }\\t\\t\\t{her_name = }')\n",
    "print(f'{id(his_name) = :<25}{id(her_name) = }')\n",
    "print(f'{(id(his_name) == id(her_name)) = }')\n",
    "\n",
    "# his_name[-1] = 'n'    # 假如允許這樣修改his_name...\n",
    "# print(f'{his_name = }\\t\\t\\t{her_name = }')   # 那麼her_name也會跟著更改。\n",
    "# his_name = (his_name[:-1] + 'n')    # 真要改要這樣，不過這是另起一個新字串。"
   ]
  },
  {
   "attachments": {},
   "cell_type": "markdown",
   "metadata": {},
   "source": [
    "<div style=\"font-family: 'Inconsolata', 'Noto Sans TC'; font-size: 115%; line-height: 135%;\">\n",
    "\n",
    "### 回主線：「金無足赤，人無完人。」\n",
    "\n",
    "「夫尺有所短，寸有所長，物有所不足，智有所不明，數有所不逮，神有所不通。」--屈原《楚辭．卜居》\n",
    "\n",
    "---\n",
    "* 天下沒有白吃的午餐，也沒有完美無缺的機制。\n",
    "* `string interning`固然可提高效能和節約空間，不過Interning字串的過程，以及維護interned字串的pool，也是需要時間的。\n",
    "* 如果某個字串很長很長，又不會(或絕少)和其他字串比較，也許就不值得花額外時間去intern這個字串了。\n",
    "* 所以，為了平衡帶來的紅利和付出的代價，Python並不會intern所有字串，而是訂出些「遊戲規則」來判斷某字串要不要intern。\n",
    "* 麻煩來了：這些遊戲規則，會讓`string interning`機制「天威難測」。原因是規則本身就繁瑣，再加上不同的Python實作(註1)可能有不同規則，即使是同一實作(如最普及的CPython)，也可能因不同版本(註2)而規則有異。\n",
    "---\n",
    "* 註1：如CPython, IronPython, Jython, PyPy, MicroPython, ...\n",
    "* 註2：例如CPython 3.7版以前使用[peephole optimization](https://github.com/python/cpython/blob/0f21fe6155227d11dc02bd3ef3b061de4ecea445/Python/peephole.c)方法決定是否intern字串，而3.8版以後則改為[AST optimizer](https://github.com/python/cpython/blob/3.7/Python/ast_opt.c)。本文在CPython 3.10.6版測試。"
   ]
  },
  {
   "attachments": {},
   "cell_type": "markdown",
   "metadata": {},
   "source": [
    "<div style=\"font-family: 'Inconsolata', 'Noto Sans TC'; font-size: 115%; line-height: 135%;\">\n",
    "\n",
    "## 一些規則例子，肯定不周延也無意周延\n",
    "\n",
    "### CPython 3.10版`string interning`規則-1\n",
    "\n",
    "\n",
    "* 字串中有空白者不intern。"
   ]
  },
  {
   "cell_type": "code",
   "execution_count": 6,
   "metadata": {},
   "outputs": [
    {
     "name": "stdout",
     "output_type": "stream",
     "text": [
      "name1 = 'Alex Van'\t\t\tname2 = 'Alex Van'\n",
      "id(name1) = 139815190966896             id(name2) = 139815190966384\n",
      "(id(name1) == id(name2)) = False\n"
     ]
    }
   ],
   "source": [
    "name1 = 'Alex Van'\n",
    "name2 = 'Alex Van'\n",
    "\n",
    "print(f'{name1 = }\\t\\t\\t{name2 = }')\n",
    "print(f'{id(name1) = :<28}{id(name2) = }')\n",
    "print(f'{(id(name1) == id(name2)) = }')"
   ]
  },
  {
   "attachments": {},
   "cell_type": "markdown",
   "metadata": {},
   "source": [
    "![](./assets/string%20interning-8.png)"
   ]
  },
  {
   "attachments": {},
   "cell_type": "markdown",
   "metadata": {},
   "source": [
    "<div style=\"font-family: 'Inconsolata', 'Noto Sans TC'; font-size: 115%; line-height: 135%;\">\n",
    "\n",
    "### CPython 3.10版`string interning`規則-2\n",
    "\n",
    "* 全部由ASCII 127以內字元組成的字串才會intern。\n",
    "* 所以包含中文的字串是不會有`string interning`的。"
   ]
  },
  {
   "cell_type": "code",
   "execution_count": 42,
   "metadata": {},
   "outputs": [
    {
     "name": "stdout",
     "output_type": "stream",
     "text": [
      "os1 = 'Linux©'\t\t\tos2 = 'Linux©'\n",
      "id(os1) = 140576191970432       id(os2) = 140576192144976\n",
      "(id(os1) == id(os2)) = False\n"
     ]
    }
   ],
   "source": [
    "os1 = 'Linux©'\n",
    "os2 = 'Linux©'\n",
    "\n",
    "print(f'{os1 = }\\t\\t\\t{os2 = }')\n",
    "print(f'{id(os1) = :<22}{id(os2) = }')\n",
    "print(f'{(id(os1) == id(os2)) = }')"
   ]
  },
  {
   "attachments": {},
   "cell_type": "markdown",
   "metadata": {},
   "source": [
    "![](./assets/string%20interning-12.png)\n",
    "![](./assets/string%20interning-13.png)"
   ]
  },
  {
   "attachments": {},
   "cell_type": "markdown",
   "metadata": {},
   "source": [
    "<div style=\"font-family: 'Inconsolata', 'Noto Sans TC'; font-size: 115%; line-height: 135%;\">\n",
    "\n",
    "* 所以包含中文的字串是不會有`string interning`的。"
   ]
  },
  {
   "cell_type": "code",
   "execution_count": 49,
   "metadata": {},
   "outputs": [
    {
     "name": "stdout",
     "output_type": "stream",
     "text": [
      "name1 = '張曼玉'\t\tname2 = '張曼玉'\n",
      "id(name1) = 140576192098544     id(name2) = 140576192098064\n",
      "(id(name1) == id(name2)) = False\n"
     ]
    }
   ],
   "source": [
    "name1 = '張曼玉'\n",
    "name2 = '張曼玉'\n",
    "\n",
    "print(f'{name1 = }\\t\\t{name2 = }')\n",
    "print(f'{id(name1) = :<20}{id(name2) = }')\n",
    "print(f'{(id(name1) == id(name2)) = }')"
   ]
  },
  {
   "attachments": {},
   "cell_type": "markdown",
   "metadata": {},
   "source": [
    "![](./assets/string%20interning-14.png)"
   ]
  },
  {
   "attachments": {},
   "cell_type": "markdown",
   "metadata": {},
   "source": [
    "<div style=\"font-family: 'Inconsolata', 'Noto Sans TC'; font-size: 115%; line-height: 135%;\">\n",
    "\n",
    "### CPython 3.10版`string interning`規則-3\n",
    "\n",
    "* 長度超過4,096個字元的字串不intern。\n",
    "* CPython 3.7版本以前長度限制為20個字元。"
   ]
  },
  {
   "cell_type": "code",
   "execution_count": 8,
   "metadata": {},
   "outputs": [
    {
     "name": "stdout",
     "output_type": "stream",
     "text": [
      "id(str1)=94237235989152      id(str2)=94237235989152      id(str3)=94237235989152      id(str4)=94237235989152      id(str5)=94237235989152\n",
      "(id(str1) == id(str2) == id(str3) == id(str4) == id(str5)) = True\n"
     ]
    }
   ],
   "source": [
    "str1 = 'A' * 4_096\n",
    "str2 = 'A' * 4_096\n",
    "str3 = 'A' * 4_096\n",
    "str4 = 'A' * 4_096\n",
    "str5 = 'A' * 4_096\n",
    "print(f'{id(str1)=:<20}{id(str2)=:<20}{id(str3)=:<20}{id(str4)=:<20}{id(str5)=}')\n",
    "print(f'{(id(str1) == id(str2) == id(str3) == id(str4) == id(str5)) = }')"
   ]
  },
  {
   "attachments": {},
   "cell_type": "markdown",
   "metadata": {},
   "source": [
    "![](./assets/string%20interning-9.png)\n",
    "![](./assets/string%20interning-10.png)"
   ]
  },
  {
   "attachments": {},
   "cell_type": "markdown",
   "metadata": {},
   "source": [
    "<div style=\"font-family: 'Inconsolata', 'Noto Sans TC'; font-size: 115%; line-height: 135%;\">\n",
    "\n",
    "### CPython 3.10版`string interning`規則-4\n",
    "\n",
    "* 字串究竟是由string variable或string literal(註1)構成，規則大致如下列(有例外)：\n",
    "    * 下面的字串「會」觸發`string interning`:\n",
    "        * 單一variable\n",
    "        * 單一literal\n",
    "        * literal + literal\n",
    "    * 下面的字串「不會」觸發`string interning`:\n",
    "        * variable + variable\n",
    "        * variable + literal\n",
    "        * literal + variable\n",
    "* 夠繁瑣了吧？\n",
    "---\n",
    "* 註1：variable是「變數」，literal為「定數」。例如在 <span style=\"font-size: 135%; font-weight: 800\">`name = 'Alex'`</span> 中，`name`是variable，`'Alex'`則是literal。"
   ]
  },
  {
   "cell_type": "code",
   "execution_count": 35,
   "metadata": {},
   "outputs": [
    {
     "name": "stdout",
     "output_type": "stream",
     "text": [
      "name1 = 'firstlast'\t\tname2 = 'firstlast'\n",
      "id(name1) = 140576191864048     id(name2) = 140576191852720\n",
      "(id(name1) == id(name2)) = False\n"
     ]
    }
   ],
   "source": [
    "first = 'first'\n",
    "last = 'last'\n",
    "name1 = 'first' + 'last'\n",
    "name2 = 'first' + 'last'\n",
    "\n",
    "print(f'{name1 = }\\t\\t{name2 = }')\n",
    "print(f'{id(name1) = :<20}{id(name2) = }')\n",
    "print(f'{(id(name1) == id(name2)) = }')"
   ]
  },
  {
   "attachments": {},
   "cell_type": "markdown",
   "metadata": {},
   "source": [
    "<div style=\"font-family: 'Inconsolata', 'Noto Sans TC'; font-size: 115%; line-height: 135%;\">\n",
    "\n",
    "### Life is Short\n",
    "\n",
    "* 人生苦短，為何要花寶貴精力去記憶這些瑣碎的規則？\n",
    "* 況且規則還可能改來改去。\n",
    "* 時間應該用於有生產力的專案本身，而不應強記繁複又易變動的內部規則。\n",
    "    ![](./assets/time%20and%20money.jpg)"
   ]
  },
  {
   "attachments": {},
   "cell_type": "markdown",
   "metadata": {},
   "source": [
    "<div style=\"font-family: 'Inconsolata', 'Noto Sans TC'; font-size: 115%; line-height: 135%;\">\n",
    "\n",
    "### 有簡單的解決辦法嗎？\n",
    "\n",
    "* 請放心，Python永遠都會幫我們開扇窗的。\n",
    "    ![](./assets/open%20window-1.jpg)"
   ]
  },
  {
   "attachments": {},
   "cell_type": "markdown",
   "metadata": {},
   "source": [
    "<div style=\"font-family: 'Inconsolata', 'Noto Sans TC'; font-size: 115%; line-height: 135%;\">\n",
    "\n",
    "### 內建的intern()函數\n",
    "\n",
    "* 上面所述的是Python自動提供的內隱式(implicit)`string interning`機制。\n",
    "* 但此機制太過冗雜，建議不用記，也不要倚賴它來判斷字串是否為同一物件。\n",
    "* 如果想有interning效果，請用Python內建的intern()函數外顯設定(intern a string explicitly)。"
   ]
  },
  {
   "attachments": {},
   "cell_type": "markdown",
   "metadata": {},
   "source": [
    "<div style=\"font-family: 'Inconsolata', 'Noto Sans TC'; font-size: 115%; line-height: 135%;\">\n",
    "\n",
    "![](./assets/Python%20the%20snake-1.jpg)"
   ]
  },
  {
   "attachments": {},
   "cell_type": "markdown",
   "metadata": {},
   "source": [
    "<div style=\"font-family: 'Inconsolata', 'Noto Sans TC'; font-size: 115%; line-height: 135%;\">\n",
    "\n",
    "### 原規則：字串中有空白者不intern"
   ]
  },
  {
   "cell_type": "code",
   "execution_count": 9,
   "metadata": {},
   "outputs": [
    {
     "name": "stdout",
     "output_type": "stream",
     "text": [
      "name1 = 'Alex Van'\t\t\tname2 = 'Alex Van'\n",
      "id(name1) = 140618241819824             id(name2) = 140618241825904\n",
      "(id(name1) == id(name2)) = False\n"
     ]
    }
   ],
   "source": [
    "name1 = 'Alex Van'\n",
    "name2 = 'Alex Van'\n",
    "\n",
    "print(f'{name1 = }\\t\\t\\t{name2 = }')\n",
    "print(f'{id(name1) = :<28}{id(name2) = }')\n",
    "print(f'{(id(name1) == id(name2)) = }')"
   ]
  },
  {
   "attachments": {},
   "cell_type": "markdown",
   "metadata": {},
   "source": [
    "<div style=\"font-family: 'Inconsolata', 'Noto Sans TC'; font-size: 115%; line-height: 135%;\">\n",
    "\n",
    "### 改用intern()函數："
   ]
  },
  {
   "cell_type": "code",
   "execution_count": 12,
   "metadata": {},
   "outputs": [
    {
     "name": "stdout",
     "output_type": "stream",
     "text": [
      "name1 = 'Alex Van'\t\t\tname2 = 'Alex Van'\n",
      "id(name1) = 140618241580080             id(name2) = 140618241580080\n",
      "(id(name1) == id(name2)) = True\n"
     ]
    }
   ],
   "source": [
    "import sys\n",
    "\n",
    "name1 = sys.intern('Alex Van')\n",
    "name2 = sys.intern('Alex Van')\n",
    "\n",
    "print(f'{name1 = }\\t\\t\\t{name2 = }')\n",
    "print(f'{id(name1) = :<28}{id(name2) = }')\n",
    "print(f'{(id(name1) == id(name2)) = }')"
   ]
  },
  {
   "attachments": {},
   "cell_type": "markdown",
   "metadata": {},
   "source": [
    "<div style=\"font-family: 'Inconsolata', 'Noto Sans TC'; font-size: 115%; line-height: 135%;\">\n",
    "\n",
    "![](./assets/string%20interning-15.png)"
   ]
  },
  {
   "attachments": {},
   "cell_type": "markdown",
   "metadata": {},
   "source": [
    "<div style=\"font-family: 'Inconsolata', 'Noto Sans TC'; font-size: 115%; line-height: 135%;\">\n",
    "\n",
    "### 原規則：內含ASCII 128以上字元者不intern"
   ]
  },
  {
   "cell_type": "code",
   "execution_count": 13,
   "metadata": {},
   "outputs": [
    {
     "name": "stdout",
     "output_type": "stream",
     "text": [
      "os1 = 'Linux©'\t\t\tos2 = 'Linux©'\n",
      "id(os1) = 140618241949744       id(os2) = 140618241959744\n",
      "(id(os1) == id(os2)) = False\n"
     ]
    }
   ],
   "source": [
    "os1 = 'Linux©'\n",
    "os2 = 'Linux©'\n",
    "\n",
    "print(f'{os1 = }\\t\\t\\t{os2 = }')\n",
    "print(f'{id(os1) = :<22}{id(os2) = }')\n",
    "print(f'{(id(os1) == id(os2)) = }')"
   ]
  },
  {
   "cell_type": "code",
   "execution_count": 15,
   "metadata": {},
   "outputs": [
    {
     "name": "stdout",
     "output_type": "stream",
     "text": [
      "name1 = '張曼玉'\t\tname2 = '張曼玉'\n",
      "id(name1) = 140618241984624     id(name2) = 140618241984336\n",
      "(id(name1) == id(name2)) = False\n"
     ]
    }
   ],
   "source": [
    "name1 = '張曼玉'\n",
    "name2 = '張曼玉'\n",
    "\n",
    "print(f'{name1 = }\\t\\t{name2 = }')\n",
    "print(f'{id(name1) = :<20}{id(name2) = }')\n",
    "print(f'{(id(name1) == id(name2)) = }')"
   ]
  },
  {
   "attachments": {},
   "cell_type": "markdown",
   "metadata": {},
   "source": [
    "<div style=\"font-family: 'Inconsolata', 'Noto Sans TC'; font-size: 115%; line-height: 135%;\">\n",
    "\n",
    "### 改用intern()函數："
   ]
  },
  {
   "cell_type": "code",
   "execution_count": 14,
   "metadata": {},
   "outputs": [
    {
     "name": "stdout",
     "output_type": "stream",
     "text": [
      "os1 = 'Linux©'\t\t\tos2 = 'Linux©'\n",
      "id(os1) = 140618241958224       id(os2) = 140618241958224\n",
      "(id(os1) == id(os2)) = True\n"
     ]
    }
   ],
   "source": [
    "import sys\n",
    "\n",
    "os1 = sys.intern('Linux©')\n",
    "os2 = sys.intern('Linux©')\n",
    "\n",
    "print(f'{os1 = }\\t\\t\\t{os2 = }')\n",
    "print(f'{id(os1) = :<22}{id(os2) = }')\n",
    "print(f'{(id(os1) == id(os2)) = }')"
   ]
  },
  {
   "cell_type": "code",
   "execution_count": 16,
   "metadata": {},
   "outputs": [
    {
     "name": "stdout",
     "output_type": "stream",
     "text": [
      "name1 = '張曼玉'\t\tname2 = '張曼玉'\n",
      "id(name1) = 140618241985296     id(name2) = 140618241985296\n",
      "(id(name1) == id(name2)) = True\n"
     ]
    }
   ],
   "source": [
    "import sys\n",
    "\n",
    "name1 = sys.intern('張曼玉')\n",
    "name2 = sys.intern('張曼玉')\n",
    "\n",
    "print(f'{name1 = }\\t\\t{name2 = }')\n",
    "print(f'{id(name1) = :<20}{id(name2) = }')\n",
    "print(f'{(id(name1) == id(name2)) = }')"
   ]
  },
  {
   "attachments": {},
   "cell_type": "markdown",
   "metadata": {},
   "source": [
    "<div style=\"font-family: 'Inconsolata', 'Noto Sans TC'; font-size: 115%; line-height: 135%;\">\n",
    "\n",
    "### 原規則：長度超過4,096個字元的字串不intern"
   ]
  },
  {
   "cell_type": "code",
   "execution_count": 18,
   "metadata": {},
   "outputs": [
    {
     "name": "stdout",
     "output_type": "stream",
     "text": [
      "id(str1)=94237236028400      id(str2)=94237236032560      \n",
      "(id(str1) == id(str2)) = False\n"
     ]
    }
   ],
   "source": [
    "str1 = 'A' * 4_097\n",
    "str2 = 'A' * 4_097\n",
    "\n",
    "print(f'{id(str1)=:<20}{id(str2)=:<20}')\n",
    "print(f'{(id(str1) == id(str2)) = }')"
   ]
  },
  {
   "attachments": {},
   "cell_type": "markdown",
   "metadata": {},
   "source": [
    "<div style=\"font-family: 'Inconsolata', 'Noto Sans TC'; font-size: 115%; line-height: 135%;\">\n",
    "\n",
    "### 改用intern()函數："
   ]
  },
  {
   "cell_type": "code",
   "execution_count": 19,
   "metadata": {},
   "outputs": [
    {
     "name": "stdout",
     "output_type": "stream",
     "text": [
      "id(str1)=94237236045216      id(str2)=94237236045216      \n",
      "(id(str1) == id(str2)) = True\n"
     ]
    }
   ],
   "source": [
    "from sys import intern\n",
    "\n",
    "str1 = intern('A' * 4_097)\n",
    "str2 = intern('A' * 4_097)\n",
    "\n",
    "print(f'{id(str1)=:<20}{id(str2)=:<20}')\n",
    "print(f'{(id(str1) == id(str2)) = }')"
   ]
  },
  {
   "attachments": {},
   "cell_type": "markdown",
   "metadata": {},
   "source": [
    "<div style=\"font-family: 'Inconsolata', 'Noto Sans TC'; font-size: 115%; line-height: 135%;\">\n",
    "\n",
    "### 原規則：字串由variable組合而成者不intern"
   ]
  },
  {
   "cell_type": "code",
   "execution_count": 21,
   "metadata": {},
   "outputs": [
    {
     "name": "stdout",
     "output_type": "stream",
     "text": [
      "name1 = 'firstlast'\t\tname2 = 'firstlast'\n",
      "id(name1) = 140618241618544     id(name2) = 140618241820272\n",
      "(id(name1) == id(name2)) = False\n"
     ]
    }
   ],
   "source": [
    "first = 'first'\n",
    "last = 'last'\n",
    "name1 = first + 'last'\n",
    "name2 = 'first' + 'last'\n",
    "\n",
    "print(f'{name1 = }\\t\\t{name2 = }')\n",
    "print(f'{id(name1) = :<20}{id(name2) = }')\n",
    "print(f'{(id(name1) == id(name2)) = }')"
   ]
  },
  {
   "attachments": {},
   "cell_type": "markdown",
   "metadata": {},
   "source": [
    "<div style=\"font-family: 'Inconsolata', 'Noto Sans TC'; font-size: 115%; line-height: 135%;\">\n",
    "\n",
    "### 改用intern()函數："
   ]
  },
  {
   "cell_type": "code",
   "execution_count": 22,
   "metadata": {},
   "outputs": [
    {
     "name": "stdout",
     "output_type": "stream",
     "text": [
      "name1 = 'firstlast'\t\tname2 = 'firstlast'\n",
      "id(name1) = 140618241820272     id(name2) = 140618241820272\n",
      "(id(name1) == id(name2)) = True\n"
     ]
    }
   ],
   "source": [
    "from sys import intern\n",
    "\n",
    "first = 'first'\n",
    "last = 'last'\n",
    "name1 = intern(first + 'last')\n",
    "name2 = intern('first' + 'last')\n",
    "\n",
    "print(f'{name1 = }\\t\\t{name2 = }')\n",
    "print(f'{id(name1) = :<20}{id(name2) = }')\n",
    "print(f'{(id(name1) == id(name2)) = }')"
   ]
  },
  {
   "cell_type": "markdown",
   "metadata": {},
   "source": [
    "<div style=\"font-family: 'jf open 粉圓 1.1', 'Noto Sans TC'; font-size: 115%; line-height: 135%;\">\n",
    "\n"
   ]
  },
  {
   "attachments": {},
   "cell_type": "markdown",
   "metadata": {},
   "source": [
    "<div style=\"font-family: 'Inconsolata', 'Noto Sans TC'; font-size: 115%; line-height: 135%;\">\n",
    "\n",
    "### 整數的interning\n",
    "\n",
    "* 整數的內隱interning也有限制。\n",
    "* 目前測試結果是256以內會自動intern，257以上則不會。"
   ]
  },
  {
   "cell_type": "code",
   "execution_count": 33,
   "metadata": {},
   "outputs": [
    {
     "name": "stdout",
     "output_type": "stream",
     "text": [
      "num1 = 256\t\tnum2 = 256\n",
      "id(num1) = 140618291880144     id(num2) = 140618291880144\n",
      "(id(num1) == id(num2)) = True\n"
     ]
    }
   ],
   "source": [
    "num1 = 256    # implicit的整數interning上限為256。\n",
    "num2 = 256\n",
    "\n",
    "print(f'{num1 = }\\t\\t{num2 = }')\n",
    "print(f'{id(num1) = :<20}{id(num2) = }')\n",
    "print(f'{(id(num1) == id(num2)) = }')"
   ]
  },
  {
   "cell_type": "markdown",
   "metadata": {},
   "source": [
    "<div style=\"font-family: 'Inconsolata', 'Noto Sans TC'; font-size: 115%; line-height: 135%;\">\n",
    "\n"
   ]
  },
  {
   "attachments": {},
   "cell_type": "markdown",
   "metadata": {},
   "source": [
    "<div style=\"font-family: 'Inconsolata', 'Noto Sans TC'; font-size: 115%; line-height: 135%;\">\n",
    "\n",
    "### 目前筆者不知道如何外顯intern整數\n",
    "\n",
    "* 所以暫時無解。"
   ]
  },
  {
   "cell_type": "code",
   "execution_count": 32,
   "metadata": {},
   "outputs": [
    {
     "ename": "TypeError",
     "evalue": "intern() argument must be str, not int",
     "output_type": "error",
     "traceback": [
      "\u001b[0;31m---------------------------------------------------------------------------\u001b[0m",
      "\u001b[0;31mTypeError\u001b[0m                                 Traceback (most recent call last)",
      "Cell \u001b[0;32mIn [32], line 3\u001b[0m\n\u001b[1;32m      1\u001b[0m \u001b[39mfrom\u001b[39;00m \u001b[39msys\u001b[39;00m \u001b[39mimport\u001b[39;00m intern\n\u001b[0;32m----> 3\u001b[0m num1 \u001b[39m=\u001b[39m intern(\u001b[39m257\u001b[39;49m)    \u001b[39m# implicit的整數interning上限為256。\u001b[39;00m\n\u001b[1;32m      4\u001b[0m num2 \u001b[39m=\u001b[39m intern(\u001b[39m257\u001b[39m)\n\u001b[1;32m      6\u001b[0m \u001b[39mprint\u001b[39m(\u001b[39mf\u001b[39m\u001b[39m'\u001b[39m\u001b[39m{\u001b[39;00mnum1 \u001b[39m= }\u001b[39;00m\u001b[39m\\t\u001b[39;00m\u001b[39m\\t\u001b[39;00m\u001b[39m{\u001b[39;00mnum2 \u001b[39m= }\u001b[39;00m\u001b[39m'\u001b[39m)\n",
      "\u001b[0;31mTypeError\u001b[0m: intern() argument must be str, not int"
     ]
    }
   ],
   "source": [
    "from sys import intern\n",
    "\n",
    "num1 = intern(257)    # implicit的整數interning上限為256。\n",
    "num2 = intern(257)\n",
    "\n",
    "print(f'{num1 = }\\t\\t{num2 = }')\n",
    "print(f'{id(num1) = :<20}{id(num2) = }')\n",
    "print(f'{(id(num1) == id(num2)) = }')"
   ]
  },
  {
   "attachments": {},
   "cell_type": "markdown",
   "metadata": {},
   "source": [
    "<div style=\"font-family: 'Gen Jyuu Gothic Monospace Medium', 'Noto Sans TC'; font-size: 200%; line-height: 135%; text-align: center; color: Plum;\">\n",
    "\n",
    "<br><br>\n",
    "# The End"
   ]
  }
 ],
 "metadata": {
  "kernelspec": {
   "display_name": "Python 3",
   "language": "python",
   "name": "python3"
  },
  "language_info": {
   "codemirror_mode": {
    "name": "ipython",
    "version": 3
   },
   "file_extension": ".py",
   "mimetype": "text/x-python",
   "name": "python",
   "nbconvert_exporter": "python",
   "pygments_lexer": "ipython3",
   "version": "3.10.6"
  },
  "orig_nbformat": 4,
  "vscode": {
   "interpreter": {
    "hash": "31f2aee4e71d21fbe5cf8b01ff0e069b9275f58929596ceb00d14d90e3e16cd6"
   }
  }
 },
 "nbformat": 4,
 "nbformat_minor": 2
}
